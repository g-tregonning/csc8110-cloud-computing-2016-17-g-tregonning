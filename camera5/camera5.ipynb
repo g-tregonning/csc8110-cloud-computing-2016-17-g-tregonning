{
 "cells": [
  {
   "cell_type": "code",
   "execution_count": 1,
   "metadata": {
    "collapsed": false,
    "scrolled": true
   },
   "outputs": [],
   "source": [
    "import configparser, time, random, string\n",
    "\n",
    "from azure.servicebus import ServiceBusService, Message, Queue, Topic, Rule, DEFAULT_RULE_NAME\n"
   ]
  },
  {
   "cell_type": "code",
   "execution_count": 2,
   "metadata": {
    "collapsed": false
   },
   "outputs": [],
   "source": [
    "uk_area_codes=['AA', 'AB', 'AC', 'AD', 'AE', 'AF', 'AG', 'AH', 'AJ', 'AK', 'AL', 'AM', 'AN', 'AO', 'AP', 'AR', 'AS', 'AT', 'AU', 'AV', 'AW', 'AX', 'AY', 'BA', 'BB', 'BC', 'BD', 'BE', 'BF', 'BG', 'BH', 'BJ', 'BK', 'BL', 'BM', 'BN', 'BO', 'BP', 'BR', 'BS', 'BT', 'BU', 'BV', 'BW', 'BX', 'BY', 'CA', 'CB', 'CC', 'CD', 'CE', 'CF', 'CG', 'CH', 'CJ', 'CK', 'CL', 'CM', 'CN', 'CO', 'CP', 'CR', 'CS', 'CT', 'CU', 'CV', 'CW', 'CX', 'CY', 'DA', 'DB', 'DC', 'DD', 'DE', 'DF', 'DG', 'DH', 'DJ', 'DK', 'DL', 'DM', 'DN', 'DO', 'DP', 'DR', 'DS', 'DT', 'DU', 'DV', 'DW', 'DX', 'DY', 'EA', 'EB', 'EC', 'ED', 'EE', 'EF', 'EG', 'EH', 'EJ', 'EK', 'EL', 'EM', 'EN', 'EO', 'EP', 'ER', 'ES', 'ET', 'EU', 'EV', 'EW', 'EX', 'EY', 'FA', 'FB', 'FC', 'FD', 'FE', 'FF', 'FG', 'FH', 'FJ', 'FK', 'FL', 'FM', 'FN', 'FP', 'FR', 'FS', 'FT', 'FV', 'FW', 'FX', 'FY', 'GA', 'GB', 'GC', 'GD', 'GE', 'GF', 'GG', 'GH', 'GJ', 'GK', 'GL', 'GM', 'GN', 'GO', 'GP', 'GR', 'GS', 'GT', 'GU', 'GV', 'GX', 'GY', 'HA', 'HB', 'HC', 'HD', 'HE', 'HF', 'HG', 'HH', 'HJ', 'HK', 'HL', 'HM', 'HN', 'HO', 'HP', 'HR', 'HS', 'HT', 'HU', 'HV', 'HW', 'HX', 'HY', 'KA', 'KB', 'KC', 'KD', 'KE', 'KF', 'KG', 'KH', 'KJ', 'KK', 'KL', 'KM', 'KN', 'KO', 'KP', 'KR', 'KS', 'KT', 'KU', 'KV', 'KW', 'KX', 'KY', 'LA', 'LB', 'LC', 'LD', 'LE', 'LF', 'LG', 'LH', 'LJ', 'LK', 'LL', 'LM', 'LN', 'LO', 'LP', 'LR', 'LS', 'LT', 'LU', 'LV', 'LW', 'LX', 'LY', 'MA', 'MB', 'MC', 'MD', 'ME', 'MF', 'MG', 'MH', 'MJ', 'MK', 'ML', 'MM', 'MN', 'MO', 'MP', 'MR', 'MS', 'MT', 'MU', 'MV', 'MW', 'MX', 'MY', 'NA', 'NB', 'NC', 'ND', 'NE', 'NF', 'NG', 'NH', 'NJ', 'NK', 'NL', 'NM', 'NN', 'NO', 'NP', 'NR', 'NS', 'NT', 'NU', 'NV', 'NW', 'NX', 'NY', 'OA', 'OB', 'OC', 'OD', 'OE', 'OF', 'OG', 'OH', 'OJ', 'OK', 'OL', 'OM', 'ON', 'OO', 'OP', 'OR', 'OS', 'OT', 'OU', 'OV', 'OW', 'OX', 'OY', 'PA', 'PB', 'PC', 'PD', 'PE', 'PF', 'PG', 'PH', 'PJ', 'PK', 'PL', 'PM', 'PN', 'PO', 'PP', 'PR', 'PS', 'PT', 'PU', 'PV', 'PW', 'PX', 'PY', 'RA', 'RB', 'RC', 'RD', 'RE', 'RF', 'RG', 'RH', 'RJ', 'RK', 'RL', 'RM', 'RN', 'RO', 'RP', 'RR', 'RS', 'RT', 'RU', 'RV', 'RW', 'RX', 'RY', 'SA', 'SB', 'SC', 'SD', 'SE', 'SF', 'SG', 'SH', 'SJ', 'SK', 'SL', 'SM', 'SN', 'SO', 'SP', 'SR', 'SS', 'ST', 'SU', 'SV', 'SW', 'SX', 'SY', 'VA', 'VB', 'VC', 'VD', 'VE', 'VF', 'VG', 'VH', 'VJ', 'VK', 'VL', 'VM', 'VN', 'VO', 'VP', 'VR', 'VS', 'VT', 'VU', 'VV', 'VW', 'VX', 'VY', 'WA', 'WB', 'WC', 'WD', 'WE', 'WF', 'WG', 'WH', 'WJ', 'WK', 'WL', 'WM', 'WN', 'WO', 'WP', 'WR', 'WS', 'WT', 'WU', 'WV', 'WW', 'WX', 'WY', 'YA', 'YB', 'YC', 'YD', 'YE', 'YF', 'YG', 'YH', 'YJ', 'YK', 'YL', 'YM', 'YN', 'YO', 'YP', 'YR', 'YS', 'YT', 'YU', 'YV', 'YW', 'YX', 'YY']"
   ]
  },
  {
   "cell_type": "code",
   "execution_count": 3,
   "metadata": {
    "collapsed": true
   },
   "outputs": [],
   "source": [
    "# Linking to the Service Bus\n",
    "\n",
    "bus_service=ServiceBusService(\n",
    "    service_namespace='Dream22',\n",
    "    shared_access_key_name='RootManageSharedAccessKey',\n",
    "    shared_access_key_value='eykA9ft6Ghg621smEDZK8uc0Y38EtgWBNZ6pCMzebvA=')"
   ]
  },
  {
   "cell_type": "code",
   "execution_count": 4,
   "metadata": {
    "collapsed": false
   },
   "outputs": [
    {
     "data": {
      "text/plain": [
       "['SectionOne', 'SectionTwo']"
      ]
     },
     "execution_count": 4,
     "metadata": {},
     "output_type": "execute_result"
    }
   ],
   "source": [
    "# Reading in the config file\n",
    "\n",
    "Config=configparser.ConfigParser()\n",
    "Config\n",
    "Config.read(\"config.ini\")\n",
    "Config.sections()"
   ]
  },
  {
   "cell_type": "code",
   "execution_count": 5,
   "metadata": {
    "collapsed": true
   },
   "outputs": [],
   "source": [
    "# Setting up the function to extract variables from the config file\n",
    "\n",
    "def ConfigSectionMap(section):\n",
    "    dict1={}\n",
    "    options=Config.options(section)\n",
    "    for option in options:\n",
    "        try:\n",
    "            dict1[option] = Config.get(section,option)\n",
    "            if dict1[option]==-1:\n",
    "                DebugPrint(\"skip: %s\" % option)\n",
    "\n",
    "        except:\n",
    "            print(\"exception on %s!\" % option)\n",
    "            dict1[option]=None\n",
    "    return dict1"
   ]
  },
  {
   "cell_type": "code",
   "execution_count": 6,
   "metadata": {
    "collapsed": false
   },
   "outputs": [],
   "source": [
    "# Reading from config file\n",
    "\n",
    "camera = ConfigSectionMap(\"SectionOne\")['id']\n",
    "street = ConfigSectionMap(\"SectionOne\")['street name']\n",
    "town = ConfigSectionMap(\"SectionOne\")['town/city']\n",
    "speedlimit = int(ConfigSectionMap(\"SectionOne\")['max speed'])\n",
    "rate = ConfigSectionMap(\"SectionTwo\")['rate']\n",
    "\n",
    "\n",
    "cars=[]"
   ]
  },
  {
   "cell_type": "code",
   "execution_count": 7,
   "metadata": {
    "collapsed": false
   },
   "outputs": [],
   "source": [
    "# Create topics for cameras and cars\n",
    "#bus_service.delete_topic('camera_switchons')\n",
    "#bus_service.create_topic('camera_switchons')\n",
    "#bus_service.create_topic('car_sightings')\n",
    "\n",
    "# Create subscriptions\n",
    "#bus_service.delete_subscription('camera_switchons', 'CameraSwitchons')\n",
    "#bus_service.create_subscription('camera_switchons', 'CameraSwitchons')\n",
    "#bus_service.delete_subscription('car_sightings', 'CarSightings')\n",
    "#bus_service.create_subscription('car_sightings', 'CarSightings')"
   ]
  },
  {
   "cell_type": "code",
   "execution_count": 11,
   "metadata": {
    "collapsed": false
   },
   "outputs": [],
   "source": [
    "# Sending camera switchon message to topic\n",
    "\n",
    "switchon = Message(bytes({0}),custom_properties={\"id\":camera,\"street\":street,\"town\":town,\"speedlimit\":speedlimit,\"time\":time.strftime(\"%H.%M.%S-%d.%m.%Y\")})\n",
    "\n",
    "bus_service.send_topic_message('camera_switchons',switchon)"
   ]
  },
  {
   "cell_type": "code",
   "execution_count": 12,
   "metadata": {
    "collapsed": false
   },
   "outputs": [
    {
     "name": "stdout",
     "output_type": "stream",
     "text": [
      "Sent on generation\n",
      "HS08 UJU\n",
      "46638\n",
      "34\n",
      "----\n",
      "\n",
      "Sent on generation\n",
      "SE33 OHW\n",
      "46638\n",
      "36\n",
      "----\n",
      "\n",
      "Sent on generation\n",
      "KB53 BES\n",
      "46638\n",
      "26\n",
      "----\n",
      "\n",
      "Sent on generation\n",
      "ER37 EZJ\n",
      "46638\n",
      "56\n",
      "----\n",
      "\n",
      "Sent on generation\n",
      "LA84 IMS\n",
      "46638\n",
      "33\n",
      "----\n",
      "\n",
      "Sent on generation\n",
      "KS86 PNI\n",
      "46638\n",
      "30\n",
      "----\n",
      "\n",
      "Sent on generation\n",
      "MB53 OLO\n",
      "46638\n",
      "25\n",
      "----\n",
      "\n",
      "Sent on generation\n",
      "WA78 FHT\n",
      "46638\n",
      "56\n",
      "----\n",
      "\n",
      "Sent on generation\n",
      "CN60 VTT\n",
      "46638\n",
      "57\n",
      "----\n",
      "\n",
      "Sent on generation\n",
      "FX21 FAX\n",
      "46638\n",
      "35\n",
      "----\n",
      "\n",
      "Sent on generation\n",
      "YH16 PLU\n",
      "46638\n",
      "58\n",
      "----\n",
      "\n",
      "Sent on generation\n",
      "GV22 ZII\n",
      "46638\n",
      "55\n",
      "----\n",
      "\n",
      "Sent on generation\n",
      "FM25 DHK\n",
      "46638\n",
      "55\n",
      "----\n",
      "\n",
      "Sent on generation\n",
      "SG80 ZGY\n",
      "46638\n",
      "29\n",
      "----\n",
      "\n",
      "Sent on generation\n",
      "YP47 IFT\n",
      "46638\n",
      "57\n",
      "----\n",
      "\n"
     ]
    },
    {
     "ename": "KeyboardInterrupt",
     "evalue": "",
     "output_type": "error",
     "traceback": [
      "\u001b[0;31m---------------------------------------------------------------------------\u001b[0m",
      "\u001b[0;31mKeyboardInterrupt\u001b[0m                         Traceback (most recent call last)",
      "\u001b[0;32m<ipython-input-12-0e72daf03b5f>\u001b[0m in \u001b[0;36m<module>\u001b[0;34m()\u001b[0m\n\u001b[1;32m     49\u001b[0m \u001b[0;34m\u001b[0m\u001b[0m\n\u001b[1;32m     50\u001b[0m \u001b[0;34m\u001b[0m\u001b[0m\n\u001b[0;32m---> 51\u001b[0;31m     \u001b[0mtime\u001b[0m\u001b[0;34m.\u001b[0m\u001b[0msleep\u001b[0m\u001b[0;34m(\u001b[0m\u001b[0mperiod\u001b[0m\u001b[0;34m)\u001b[0m\u001b[0;34m\u001b[0m\u001b[0m\n\u001b[0m\u001b[1;32m     52\u001b[0m \u001b[0;34m\u001b[0m\u001b[0m\n\u001b[1;32m     53\u001b[0m \u001b[0;34m\u001b[0m\u001b[0m\n",
      "\u001b[0;31mKeyboardInterrupt\u001b[0m: "
     ]
    }
   ],
   "source": [
    "# Launching simulation of cars\n",
    " \n",
    "period=60/int(rate)\n",
    "\n",
    "localstorage=[]\n",
    "\n",
    "while True:\n",
    "\n",
    "    registration=random.choice(uk_area_codes)+str(random.randint(0,9))+str(random.randint(0,9))+' '+random.choice(string.ascii_uppercase)+random.choice(string.ascii_uppercase)+random.choice(string.ascii_uppercase)\n",
    "    vtype=random.choice(['Car','Truck','Motorcycle'])\n",
    "    speed=random.randint(speedlimit-20,speedlimit+20)\n",
    "    msg = Message(bytes({0}),custom_properties={\"cameraid\":camera,\"street\":street,\"town\":town,\"speedlimit\":speedlimit,\"registration\":registration,\"type\":vtype,\"speed\":speed})\n",
    "    try: \n",
    "        bus_service.send_topic_message(('car_sightings'), msg)\n",
    "        print('Sent on generation')\n",
    "        print(msg.custom_properties['registration'])\n",
    "        print(msg.custom_properties['cameraid'])\n",
    "        print(msg.custom_properties['speed'])\n",
    "        print('----')\n",
    "        print()\n",
    "        \n",
    "        if localstorage!=[]:\n",
    "            for message in localstorage:\n",
    "                \n",
    "                try:\n",
    "                    bus_service.send_topic_message(('car_sightings'), message)\n",
    "                    \n",
    "                    localstorage.remove(message)\n",
    "                    \n",
    "                    print('Sent from local storage')\n",
    "                    print(message.custom_properties['registration'])\n",
    "                    print(message.custom_properties['cameraid'])\n",
    "                    print(message.custom_properties['speed'])\n",
    "                    print('----')\n",
    "                    print()\n",
    "                    \n",
    "                except:\n",
    "                    break\n",
    "                \n",
    "                \n",
    "    except:\n",
    "        localstorage.append(msg)\n",
    "        print('Saved in local storage')\n",
    "        print(msg.custom_properties['registration'])\n",
    "        print(msg.custom_properties['cameraid'])\n",
    "        print(msg.custom_properties['speed'])\n",
    "        print('----')\n",
    "        print()\n",
    "        \n",
    "    \n",
    "    time.sleep(period)\n",
    "\n",
    "    "
   ]
  },
  {
   "cell_type": "code",
   "execution_count": null,
   "metadata": {
    "collapsed": false
   },
   "outputs": [],
   "source": []
  },
  {
   "cell_type": "code",
   "execution_count": null,
   "metadata": {
    "collapsed": false
   },
   "outputs": [],
   "source": []
  },
  {
   "cell_type": "code",
   "execution_count": null,
   "metadata": {
    "collapsed": true
   },
   "outputs": [],
   "source": []
  }
 ],
 "metadata": {
  "kernelspec": {
   "display_name": "Python 3",
   "language": "python",
   "name": "python3"
  },
  "language_info": {
   "codemirror_mode": {
    "name": "ipython",
    "version": 3
   },
   "file_extension": ".py",
   "mimetype": "text/x-python",
   "name": "python",
   "nbconvert_exporter": "python",
   "pygments_lexer": "ipython3",
   "version": "3.5.0"
  }
 },
 "nbformat": 4,
 "nbformat_minor": 0
}
